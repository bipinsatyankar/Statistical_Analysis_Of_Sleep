{
  "nbformat": 4,
  "nbformat_minor": 0,
  "metadata": {
    "colab": {
      "provenance": []
    },
    "kernelspec": {
      "name": "python3",
      "display_name": "Python 3"
    },
    "language_info": {
      "name": "python"
    }
  },
  "cells": [
    {
      "cell_type": "markdown",
      "source": [
        "EXCERSICE 5.1"
      ],
      "metadata": {
        "id": "BCPgWKHjYnIU"
      }
    },
    {
      "cell_type": "code",
      "execution_count": 27,
      "metadata": {
        "colab": {
          "base_uri": "https://localhost:8080/"
        },
        "id": "Th0-bSNCOYrl",
        "outputId": "5feb6942-3dbe-4ee0-c520-52dec34c52b8"
      },
      "outputs": [
        {
          "output_type": "stream",
          "name": "stdout",
          "text": [
            "Requirement already satisfied: pandas in /usr/local/lib/python3.10/dist-packages (2.1.4)\n",
            "Requirement already satisfied: scipy in /usr/local/lib/python3.10/dist-packages (1.13.1)\n",
            "Requirement already satisfied: numpy in /usr/local/lib/python3.10/dist-packages (1.26.4)\n",
            "Requirement already satisfied: python-dateutil>=2.8.2 in /usr/local/lib/python3.10/dist-packages (from pandas) (2.8.2)\n",
            "Requirement already satisfied: pytz>=2020.1 in /usr/local/lib/python3.10/dist-packages (from pandas) (2024.1)\n",
            "Requirement already satisfied: tzdata>=2022.1 in /usr/local/lib/python3.10/dist-packages (from pandas) (2024.1)\n",
            "Requirement already satisfied: six>=1.5 in /usr/local/lib/python3.10/dist-packages (from python-dateutil>=2.8.2->pandas) (1.16.0)\n"
          ]
        }
      ],
      "source": [
        "pip install pandas scipy numpy"
      ]
    },
    {
      "cell_type": "code",
      "source": [
        "import pandas as pd"
      ],
      "metadata": {
        "id": "YrN2KajOOh2o"
      },
      "execution_count": 2,
      "outputs": []
    },
    {
      "cell_type": "code",
      "source": [
        "df = pd.read_csv(\"/content/Sleep_health_and_lifestyle_dataset.csv\")"
      ],
      "metadata": {
        "id": "36mTBJS_Ot_6"
      },
      "execution_count": 5,
      "outputs": []
    },
    {
      "cell_type": "code",
      "source": [
        "print(df.head(15))"
      ],
      "metadata": {
        "colab": {
          "base_uri": "https://localhost:8080/"
        },
        "id": "x5q5M5G0QYo9",
        "outputId": "6189a4a8-a748-4b83-ff03-2713e748dd87"
      },
      "execution_count": 28,
      "outputs": [
        {
          "output_type": "stream",
          "name": "stdout",
          "text": [
            "    Person ID Gender  Age            Occupation  Sleep Duration  \\\n",
            "0           1   Male   27     Software Engineer             6.1   \n",
            "1           2   Male   28                Doctor             6.2   \n",
            "2           3   Male   28                Doctor             6.2   \n",
            "3           4   Male   28  Sales Representative             5.9   \n",
            "4           5   Male   28  Sales Representative             5.9   \n",
            "5           6   Male   28     Software Engineer             5.9   \n",
            "6           7   Male   29               Teacher             6.3   \n",
            "7           8   Male   29                Doctor             7.8   \n",
            "8           9   Male   29                Doctor             7.8   \n",
            "9          10   Male   29                Doctor             7.8   \n",
            "10         11   Male   29                Doctor             6.1   \n",
            "11         12   Male   29                Doctor             7.8   \n",
            "12         13   Male   29                Doctor             6.1   \n",
            "13         14   Male   29                Doctor             6.0   \n",
            "14         15   Male   29                Doctor             6.0   \n",
            "\n",
            "    Quality of Sleep  Physical Activity Level  Stress Level BMI Category  \\\n",
            "0                  6                       42             6   Overweight   \n",
            "1                  6                       60             8       Normal   \n",
            "2                  6                       60             8       Normal   \n",
            "3                  4                       30             8        Obese   \n",
            "4                  4                       30             8        Obese   \n",
            "5                  4                       30             8        Obese   \n",
            "6                  6                       40             7        Obese   \n",
            "7                  7                       75             6       Normal   \n",
            "8                  7                       75             6       Normal   \n",
            "9                  7                       75             6       Normal   \n",
            "10                 6                       30             8       Normal   \n",
            "11                 7                       75             6       Normal   \n",
            "12                 6                       30             8       Normal   \n",
            "13                 6                       30             8       Normal   \n",
            "14                 6                       30             8       Normal   \n",
            "\n",
            "   Blood Pressure  Heart Rate  Daily Steps Sleep Disorder  \n",
            "0          126/83          77         4200            NaN  \n",
            "1          125/80          75        10000            NaN  \n",
            "2          125/80          75        10000            NaN  \n",
            "3          140/90          85         3000    Sleep Apnea  \n",
            "4          140/90          85         3000    Sleep Apnea  \n",
            "5          140/90          85         3000       Insomnia  \n",
            "6          140/90          82         3500       Insomnia  \n",
            "7          120/80          70         8000            NaN  \n",
            "8          120/80          70         8000            NaN  \n",
            "9          120/80          70         8000            NaN  \n",
            "10         120/80          70         8000            NaN  \n",
            "11         120/80          70         8000            NaN  \n",
            "12         120/80          70         8000            NaN  \n",
            "13         120/80          70         8000            NaN  \n",
            "14         120/80          70         8000            NaN  \n"
          ]
        }
      ]
    },
    {
      "cell_type": "markdown",
      "source": [
        "**Descriptive Statistics**:\n",
        "Descriptive statistics are essential for understanding the basic features of a dataset. They provide simple summaries about the sample and the measures, forming the basis of virtually every quantitative analysis of data. Descriptive statistics help to simplify large amounts of data in a sensible way."
      ],
      "metadata": {
        "id": "bWlTO7NNae1S"
      }
    },
    {
      "cell_type": "code",
      "source": [
        "print(\"Mean:\\n\", df.mean(numeric_only=True))\n",
        "print(\"\\nMedian:\\n\", df.median(numeric_only=True))\n",
        "print(\"\\nMode:\\n\", df.mode(numeric_only=True).iloc[0])\n",
        "print(\"\\nStandard Deviation:\\n\", df.std(numeric_only=True))\n",
        "print(\"\\nVariance:\\n\", df.var(numeric_only=True))\n"
      ],
      "metadata": {
        "colab": {
          "base_uri": "https://localhost:8080/"
        },
        "id": "feMw9onEQbqC",
        "outputId": "e098a781-cf36-4150-cea5-422d152132f0"
      },
      "execution_count": 7,
      "outputs": [
        {
          "output_type": "stream",
          "name": "stdout",
          "text": [
            "Mean:\n",
            " Person ID                   187.500000\n",
            "Age                          42.184492\n",
            "Sleep Duration                7.132086\n",
            "Quality of Sleep              7.312834\n",
            "Physical Activity Level      59.171123\n",
            "Stress Level                  5.385027\n",
            "Heart Rate                   70.165775\n",
            "Daily Steps                6816.844920\n",
            "dtype: float64\n",
            "\n",
            "Median:\n",
            " Person ID                   187.5\n",
            "Age                          43.0\n",
            "Sleep Duration                7.2\n",
            "Quality of Sleep              7.0\n",
            "Physical Activity Level      60.0\n",
            "Stress Level                  5.0\n",
            "Heart Rate                   70.0\n",
            "Daily Steps                7000.0\n",
            "dtype: float64\n",
            "\n",
            "Mode:\n",
            " Person ID                     1.0\n",
            "Age                          43.0\n",
            "Sleep Duration                7.2\n",
            "Quality of Sleep              8.0\n",
            "Physical Activity Level      60.0\n",
            "Stress Level                  3.0\n",
            "Heart Rate                   68.0\n",
            "Daily Steps                8000.0\n",
            "Name: 0, dtype: float64\n",
            "\n",
            "Standard Deviation:\n",
            " Person ID                   108.108742\n",
            "Age                           8.673133\n",
            "Sleep Duration                0.795657\n",
            "Quality of Sleep              1.196956\n",
            "Physical Activity Level      20.830804\n",
            "Stress Level                  1.774526\n",
            "Heart Rate                    4.135676\n",
            "Daily Steps                1617.915679\n",
            "dtype: float64\n",
            "\n",
            "Variance:\n",
            " Person ID                  1.168750e+04\n",
            "Age                        7.522324e+01\n",
            "Sleep Duration             6.330696e-01\n",
            "Quality of Sleep           1.432703e+00\n",
            "Physical Activity Level    4.339224e+02\n",
            "Stress Level               3.148944e+00\n",
            "Heart Rate                 1.710381e+01\n",
            "Daily Steps                2.617651e+06\n",
            "dtype: float64\n"
          ]
        }
      ]
    },
    {
      "cell_type": "code",
      "source": [
        "print(\"\\nRange:\\n\", df.max(numeric_only=True) - df.min(numeric_only=True))\n",
        "\n",
        "# Print skewness for numeric columns only\n",
        "print(\"\\nSkewness:\\n\", df.skew(numeric_only=True))\n",
        "\n",
        "# Print kurtosis for numeric columns only\n",
        "print(\"\\nKurtosis:\\n\", df.kurt(numeric_only=True))\n",
        "from scipy import stats\n",
        "\n"
      ],
      "metadata": {
        "colab": {
          "base_uri": "https://localhost:8080/"
        },
        "id": "q6g2o2e_QqVO",
        "outputId": "bbcec619-4188-4c6e-b814-920faf05b435"
      },
      "execution_count": 9,
      "outputs": [
        {
          "output_type": "stream",
          "name": "stdout",
          "text": [
            "\n",
            "Range:\n",
            " Person ID                   373.0\n",
            "Age                          32.0\n",
            "Sleep Duration                2.7\n",
            "Quality of Sleep              5.0\n",
            "Physical Activity Level      60.0\n",
            "Stress Level                  5.0\n",
            "Heart Rate                   21.0\n",
            "Daily Steps                7000.0\n",
            "dtype: float64\n",
            "\n",
            "Skewness:\n",
            " Person ID                  0.000000\n",
            "Age                        0.257222\n",
            "Sleep Duration             0.037554\n",
            "Quality of Sleep          -0.207448\n",
            "Physical Activity Level    0.074487\n",
            "Stress Level               0.154330\n",
            "Heart Rate                 1.224824\n",
            "Daily Steps                0.178277\n",
            "dtype: float64\n",
            "\n",
            "Kurtosis:\n",
            " Person ID                 -1.200000\n",
            "Age                       -0.909780\n",
            "Sleep Duration            -1.286506\n",
            "Quality of Sleep          -0.748276\n",
            "Physical Activity Level   -1.266068\n",
            "Stress Level              -1.327307\n",
            "Heart Rate                 2.286455\n",
            "Daily Steps               -0.394031\n",
            "dtype: float64\n"
          ]
        }
      ]
    },
    {
      "cell_type": "markdown",
      "source": [
        "**Inferential Statistic**s:\n",
        "Inferential statistics allow us to make predictions or inferences about a population based on a sample of data. Unlike descriptive statistics, which simply summarize data, inferential statistics help us draw conclusions and make predictions beyond the immediate data."
      ],
      "metadata": {
        "id": "szwpOvw6ao98"
      }
    },
    {
      "cell_type": "code",
      "source": [
        "from scipy import stats\n",
        "\n",
        "\n",
        "sleep = df['Sleep Duration'] #Removed trailing whitespace from column name\n",
        "\n",
        "# Hypothetical population mean for BMI\n",
        "population_mean = 1.00\n",
        "\n",
        "# Perform one-sample t-test\n",
        "t_stat, p_value = stats.ttest_1samp(sleep, population_mean)\n",
        "\n",
        "print(f\"T-Statistic: {t_stat}\")\n",
        "print(f\"P-Value: {p_value}\")"
      ],
      "metadata": {
        "colab": {
          "base_uri": "https://localhost:8080/"
        },
        "id": "e3tfejxBQ3wG",
        "outputId": "8ded0e71-a6bb-435f-aba6-8eabf87efe4c"
      },
      "execution_count": 13,
      "outputs": [
        {
          "output_type": "stream",
          "name": "stdout",
          "text": [
            "T-Statistic: 149.04529330234453\n",
            "P-Value: 0.0\n"
          ]
        }
      ]
    },
    {
      "cell_type": "code",
      "source": [
        "\n",
        "Hrate = df['Heart Rate'] #Removed trailing whitespace from column name\n",
        "\n",
        "# Hypothetical population mean for BMI\n",
        "population_mean = 1.00\n",
        "\n",
        "# Perform one-sample t-test\n",
        "t_stat, p_value = stats.ttest_1samp(Hrate, population_mean)\n",
        "\n",
        "print(f\"T-Statistic: {t_stat}\")\n",
        "print(f\"P-Value: {p_value}\")"
      ],
      "metadata": {
        "colab": {
          "base_uri": "https://localhost:8080/"
        },
        "id": "f14QaDGNSei9",
        "outputId": "b2c1bb2c-2b0e-4659-e087-c73cf49b2c17"
      },
      "execution_count": 15,
      "outputs": [
        {
          "output_type": "stream",
          "name": "stdout",
          "text": [
            "T-Statistic: 323.4302171731714\n",
            "P-Value: 0.0\n"
          ]
        }
      ]
    },
    {
      "cell_type": "markdown",
      "source": [
        "**Confidence Intervals**:\n",
        "A confidence interval is a range of values, derived from the sample data, that is likely to contain the true population parameter. Confidence intervals provide an estimate of the uncertainty associated with a sample statistic, allowing researchers to gauge the precision of their estimates."
      ],
      "metadata": {
        "id": "gvMvPKqLbHyE"
      }
    },
    {
      "cell_type": "code",
      "source": [
        "import numpy as np\n",
        "from scipy import stats\n",
        "\n",
        "sample_mean = np.mean(sleep) # Changed Sleep_Duration to sleep\n",
        "standard_error = stats.sem(sleep) # Changed Sleep_Duration to sleep\n",
        "\n",
        "# Compute 95% confidence interval for BMI\n",
        "confidence_interval = stats.norm.interval(0.95, loc=sample_mean, scale=standard_error)\n",
        "\n",
        "print(f\"95% Confidence Interval for sleep: {confidence_interval}\")"
      ],
      "metadata": {
        "colab": {
          "base_uri": "https://localhost:8080/"
        },
        "id": "ue3fSrt_STyp",
        "outputId": "e03bd6a1-5e4d-41e4-c518-de1ce0d12e32"
      },
      "execution_count": 19,
      "outputs": [
        {
          "output_type": "stream",
          "name": "stdout",
          "text": [
            "95% Confidence Interval for sleep: (7.051447880263927, 7.212723242730723)\n"
          ]
        }
      ]
    },
    {
      "cell_type": "markdown",
      "source": [
        "**Regression Analysis**:\n",
        "Regression analysis is used to model the relationship between dependent and independent variables. It helps in understanding how the typical value of the dependent variable changes when any one of the independent variables is varied. Regression analysis is fundamental in predicting outcomes and identifying trends in data"
      ],
      "metadata": {
        "id": "lroWgluqbR7J"
      }
    },
    {
      "cell_type": "code",
      "source": [
        "import statsmodels.api as sm\n",
        "\n",
        "# Define independent variable (add constant for intercept)\n",
        "X = sm.add_constant(df['Sleep Duration']) # Removed trailing whitespace from column name\n",
        "\n",
        "# Define dependent variable\n",
        "y = df['Heart Rate']\n",
        "\n",
        "# Fit linear regression model\n",
        "model = sm.OLS(y, X).fit()\n",
        "\n",
        "# Print model summary\n",
        "print(model.summary())"
      ],
      "metadata": {
        "colab": {
          "base_uri": "https://localhost:8080/"
        },
        "id": "wkNvVl7KUkX_",
        "outputId": "01a83be7-b59a-4e39-ce3f-dfd6229f5b0c"
      },
      "execution_count": 21,
      "outputs": [
        {
          "output_type": "stream",
          "name": "stdout",
          "text": [
            "                            OLS Regression Results                            \n",
            "==============================================================================\n",
            "Dep. Variable:             Heart Rate   R-squared:                       0.267\n",
            "Model:                            OLS   Adj. R-squared:                  0.265\n",
            "Method:                 Least Squares   F-statistic:                     135.3\n",
            "Date:                Sun, 08 Sep 2024   Prob (F-statistic):           6.91e-27\n",
            "Time:                        15:52:26   Log-Likelihood:                -1003.1\n",
            "No. Observations:                 374   AIC:                             2010.\n",
            "Df Residuals:                     372   BIC:                             2018.\n",
            "Df Model:                           1                                         \n",
            "Covariance Type:            nonrobust                                         \n",
            "==================================================================================\n",
            "                     coef    std err          t      P>|t|      [0.025      0.975]\n",
            "----------------------------------------------------------------------------------\n",
            "const             89.3114      1.656     53.930      0.000      86.055      92.568\n",
            "Sleep Duration    -2.6844      0.231    -11.632      0.000      -3.138      -2.231\n",
            "==============================================================================\n",
            "Omnibus:                      137.519   Durbin-Watson:                   1.076\n",
            "Prob(Omnibus):                  0.000   Jarque-Bera (JB):              716.262\n",
            "Skew:                           1.476   Prob(JB):                    2.92e-156\n",
            "Kurtosis:                       9.103   Cond. No.                         66.1\n",
            "==============================================================================\n",
            "\n",
            "Notes:\n",
            "[1] Standard Errors assume that the covariance matrix of the errors is correctly specified.\n"
          ]
        }
      ]
    },
    {
      "cell_type": "markdown",
      "source": [
        "EXCERSICE 5.2"
      ],
      "metadata": {
        "id": "T8sFYv7DYVsk"
      }
    },
    {
      "cell_type": "code",
      "source": [
        "import matplotlib.pyplot as plt\n",
        "import numpy as np\n",
        "import pandas as pd\n",
        "\n",
        "# Scatter plot\n",
        "plt.figure(figsize=(10, 6))\n",
        "plt.scatter(df['Sleep Duration'], df['Heart Rate'], color='blue', s=50, label='Data Points')\n",
        "\n",
        "# Fit a linear regression model using NumPy\n",
        "# X and Y values\n",
        "X = df['Sleep Duration'].values\n",
        "y = df['Heart Rate'].values\n",
        "\n",
        "# Add a constant to the model (intercept)\n",
        "X_with_const = np.vstack([np.ones_like(X), X]).T\n",
        "\n",
        "# Calculate the coefficients using the Ordinary Least Squares (OLS) method\n",
        "coefficients = np.linalg.lstsq(X_with_const, y, rcond=None)[0]\n",
        "intercept, slope = coefficients\n",
        "\n",
        "# Generate regression line values\n",
        "X_range = np.linspace(X.min(), X.max(), 100)\n",
        "y_pred = intercept + slope * X_range\n",
        "\n",
        "# Plot regression line\n",
        "plt.plot(X_range, y_pred, color='red', linewidth=2, label='Regression Line')\n",
        "\n",
        "# Add labels and title\n",
        "plt.xlabel('Sleep Duration')\n",
        "plt.ylabel('Heart Rate')\n",
        "plt.title('Sleep Duration vs. Heart Rate with Regression Line')\n",
        "plt.legend()\n",
        "\n",
        "# Show plot\n",
        "plt.show()\n"
      ],
      "metadata": {
        "colab": {
          "base_uri": "https://localhost:8080/",
          "height": 434
        },
        "id": "xAwF1B00Wf64",
        "outputId": "3ad6b481-a617-41f7-c5d0-5b68fa5892b6"
      },
      "execution_count": 26,
      "outputs": [
        {
          "output_type": "display_data",
          "data": {
            "text/plain": [
              "<Figure size 1000x600 with 1 Axes>"
            ],
            "image/png": "[encoded data removed]"
          },
          "metadata": {}
        }
      ]
    },
    {
      "cell_type": "markdown",
      "source": [
        "-BIPIN"
      ],
      "metadata": {
        "id": "z0siFYoiYwbI"
      }
    }
  ]
}